{
 "cells": [
  {
   "cell_type": "code",
   "execution_count": 1,
   "metadata": {},
   "outputs": [
    {
     "data": {
      "application/javascript": [
       "IPython.notebook.set_autosave_interval(900000)"
      ]
     },
     "metadata": {},
     "output_type": "display_data"
    },
    {
     "name": "stdout",
     "output_type": "stream",
     "text": [
      "Autosaving every 900 seconds\n"
     ]
    }
   ],
   "source": [
    "%autosave 900 "
   ]
  },
  {
   "cell_type": "markdown",
   "metadata": {},
   "source": [
    "(The above changes autosave to every 15 minutes<a id = autosave_time>[1]</a>, since (following feedback from previous assignment) I have written a script which (when I remember to run it) forces a commit every time a file within the project directory is changed<a id = my_force_commit_script>[2]</a>, and a 2 minute autosave would be ridiculous.)"
   ]
  },
  {
   "cell_type": "markdown",
   "metadata": {
    "collapsed": true
   },
   "source": [
    "#### References\n",
    "\n",
    "[1](#autosave_time): https://www.webucator.com/blog/2016/03/change-default-autosave-interval-in-ipython-notebook/\n",
    "\n",
    "[2](#my_force_commit_script): https://stackoverflow.com/a/59121121/12462056\n",
    "\n",
    "[3](#convert_to_csv): https://stackoverflow.com/questions/21546739/load-data-from-txt-with-pandas\n",
    "\n",
    "[4](#multiple_distplots): https://stackoverflow.com/questions/46045750/python-distplot-with-multiple-distributions\n",
    "\n",
    "[5](#accessing_columns): https://datacarpentry.org/python-ecology-lesson/03-index-slice-subset/\n",
    "\n",
    "[6](#show_legend): https://stackoverflow.com/questions/44968012/unable-to-show-legend-in-seaborn-distplot\n",
    "\n",
    "[7](#combinations): https://stackoverflow.com/questions/15315452/selecting-with-complex-criteria-from-pandas-dataframe\n",
    "\n",
    "[8](#rounding): https://www.geeksforgeeks.org/round-function-python/\n",
    "\n",
    "[9](#generating_random_data): https://towardsdatascience.com/understanding-the-normal-distribution-with-python-e70bb855b027\n",
    "\n",
    "[10](#pick_from_a_list): https://pynative.com/python-random-choice/\n",
    "\n",
    "[11](#assign_df_vals): https://stackoverflow.com/questions/13842088/set-value-for-particular-cell-in-pandas-dataframe-using-index\n",
    "\n",
    "[12](#empty_cols): https://stackoverflow.com/questions/16327055/how-to-add-an-empty-column-to-a-dataframe\n",
    "\n",
    "[13](#rating_diffs): https://www.chess.com/forum/view/general/win-percentages-for-specific-rating-differences\n",
    "\n",
    "[14](#my_table):https://stackoverflow.com/questions/48655801/tables-in-markdown-in-jupyter/48657695\n",
    "\n",
    "[15](#check_range): https://stackoverflow.com/questions/13628791/determine-whether-integer-is-between-two-other-integers\n"
   ]
  },
  {
   "cell_type": "markdown",
   "metadata": {},
   "source": [
    "#### The Data\n",
    "This data was downloaded from games archive on lichess.org (My_Games_Original in the project directory). The Data_Acquisition file in the project directory goes into further detail on my reasoning and processes for converting to this format. <a id = convert_to_csv>[3]</a>"
   ]
  },
  {
   "cell_type": "code",
   "execution_count": 2,
   "metadata": {
    "collapsed": true
   },
   "outputs": [],
   "source": [
    "import csv\n",
    "import pandas as pd\n",
    "\n",
    "fintan_games=pd.read_csv('My_Games', sep=\",\", header=None)\n",
    "fintan_games.columns=['My_Colour', 'My_Result', 'Opponent_Rating', 'Time_Control', 'First_Move', 'Second_Move']"
   ]
  },
  {
   "cell_type": "code",
   "execution_count": 3,
   "metadata": {},
   "outputs": [
    {
     "data": {
      "text/html": [
       "<div>\n",
       "<style scoped>\n",
       "    .dataframe tbody tr th:only-of-type {\n",
       "        vertical-align: middle;\n",
       "    }\n",
       "\n",
       "    .dataframe tbody tr th {\n",
       "        vertical-align: top;\n",
       "    }\n",
       "\n",
       "    .dataframe thead th {\n",
       "        text-align: right;\n",
       "    }\n",
       "</style>\n",
       "<table border=\"1\" class=\"dataframe\">\n",
       "  <thead>\n",
       "    <tr style=\"text-align: right;\">\n",
       "      <th></th>\n",
       "      <th>My_Colour</th>\n",
       "      <th>My_Result</th>\n",
       "      <th>Opponent_Rating</th>\n",
       "      <th>Time_Control</th>\n",
       "      <th>First_Move</th>\n",
       "      <th>Second_Move</th>\n",
       "    </tr>\n",
       "  </thead>\n",
       "  <tbody>\n",
       "    <tr>\n",
       "      <th>0</th>\n",
       "      <td>Black</td>\n",
       "      <td>0</td>\n",
       "      <td>1906</td>\n",
       "      <td>180+0</td>\n",
       "      <td>d4</td>\n",
       "      <td>e5</td>\n",
       "    </tr>\n",
       "    <tr>\n",
       "      <th>1</th>\n",
       "      <td>Black</td>\n",
       "      <td>0</td>\n",
       "      <td>1956</td>\n",
       "      <td>180+0</td>\n",
       "      <td>d4</td>\n",
       "      <td>e5</td>\n",
       "    </tr>\n",
       "    <tr>\n",
       "      <th>2</th>\n",
       "      <td>White</td>\n",
       "      <td>1</td>\n",
       "      <td>1835</td>\n",
       "      <td>180+0</td>\n",
       "      <td>e4</td>\n",
       "      <td>d5</td>\n",
       "    </tr>\n",
       "    <tr>\n",
       "      <th>3</th>\n",
       "      <td>Black</td>\n",
       "      <td>1</td>\n",
       "      <td>1936</td>\n",
       "      <td>180+0</td>\n",
       "      <td>e4</td>\n",
       "      <td>e6</td>\n",
       "    </tr>\n",
       "    <tr>\n",
       "      <th>4</th>\n",
       "      <td>White</td>\n",
       "      <td>1</td>\n",
       "      <td>1868</td>\n",
       "      <td>180+0</td>\n",
       "      <td>e4</td>\n",
       "      <td>c5</td>\n",
       "    </tr>\n",
       "    <tr>\n",
       "      <th>5</th>\n",
       "      <td>White</td>\n",
       "      <td>1</td>\n",
       "      <td>1881</td>\n",
       "      <td>180+0</td>\n",
       "      <td>e4</td>\n",
       "      <td>b6</td>\n",
       "    </tr>\n",
       "    <tr>\n",
       "      <th>6</th>\n",
       "      <td>Black</td>\n",
       "      <td>1/2</td>\n",
       "      <td>1930</td>\n",
       "      <td>180+0</td>\n",
       "      <td>e4</td>\n",
       "      <td>e6</td>\n",
       "    </tr>\n",
       "    <tr>\n",
       "      <th>7</th>\n",
       "      <td>Black</td>\n",
       "      <td>0</td>\n",
       "      <td>1894</td>\n",
       "      <td>180+0</td>\n",
       "      <td>e4</td>\n",
       "      <td>e6</td>\n",
       "    </tr>\n",
       "    <tr>\n",
       "      <th>8</th>\n",
       "      <td>White</td>\n",
       "      <td>1/2</td>\n",
       "      <td>1934</td>\n",
       "      <td>180+0</td>\n",
       "      <td>e4</td>\n",
       "      <td>d5</td>\n",
       "    </tr>\n",
       "    <tr>\n",
       "      <th>9</th>\n",
       "      <td>White</td>\n",
       "      <td>0</td>\n",
       "      <td>1936</td>\n",
       "      <td>180+0</td>\n",
       "      <td>e4</td>\n",
       "      <td>Nc6</td>\n",
       "    </tr>\n",
       "  </tbody>\n",
       "</table>\n",
       "</div>"
      ],
      "text/plain": [
       "  My_Colour My_Result  Opponent_Rating Time_Control First_Move Second_Move\n",
       "0     Black         0             1906        180+0         d4          e5\n",
       "1     Black         0             1956        180+0         d4          e5\n",
       "2     White         1             1835        180+0         e4          d5\n",
       "3     Black         1             1936        180+0         e4          e6\n",
       "4     White         1             1868        180+0         e4          c5\n",
       "5     White         1             1881        180+0         e4          b6\n",
       "6     Black       1/2             1930        180+0         e4          e6\n",
       "7     Black         0             1894        180+0         e4          e6\n",
       "8     White       1/2             1934        180+0         e4          d5\n",
       "9     White         0             1936        180+0         e4         Nc6"
      ]
     },
     "execution_count": 3,
     "metadata": {},
     "output_type": "execute_result"
    }
   ],
   "source": [
    "fintan_games.head(10)"
   ]
  },
  {
   "cell_type": "markdown",
   "metadata": {},
   "source": [
    "We shall also import some other packages."
   ]
  },
  {
   "cell_type": "code",
   "execution_count": 4,
   "metadata": {
    "collapsed": true
   },
   "outputs": [],
   "source": [
    "import numpy as np\n",
    "import numpy.random as npr\n",
    "import seaborn as sb\n",
    "import matplotlib.pyplot as plt\n",
    "from collections import Counter as cnt"
   ]
  },
  {
   "cell_type": "markdown",
   "metadata": {},
   "source": [
    "#### Some Analysis"
   ]
  },
  {
   "cell_type": "code",
   "execution_count": 5,
   "metadata": {},
   "outputs": [
    {
     "data": {
      "text/html": [
       "<div>\n",
       "<style scoped>\n",
       "    .dataframe tbody tr th:only-of-type {\n",
       "        vertical-align: middle;\n",
       "    }\n",
       "\n",
       "    .dataframe tbody tr th {\n",
       "        vertical-align: top;\n",
       "    }\n",
       "\n",
       "    .dataframe thead th {\n",
       "        text-align: right;\n",
       "    }\n",
       "</style>\n",
       "<table border=\"1\" class=\"dataframe\">\n",
       "  <thead>\n",
       "    <tr style=\"text-align: right;\">\n",
       "      <th></th>\n",
       "      <th>Opponent_Rating</th>\n",
       "    </tr>\n",
       "  </thead>\n",
       "  <tbody>\n",
       "    <tr>\n",
       "      <th>count</th>\n",
       "      <td>6250.000000</td>\n",
       "    </tr>\n",
       "    <tr>\n",
       "      <th>mean</th>\n",
       "      <td>1862.975200</td>\n",
       "    </tr>\n",
       "    <tr>\n",
       "      <th>std</th>\n",
       "      <td>103.970483</td>\n",
       "    </tr>\n",
       "    <tr>\n",
       "      <th>min</th>\n",
       "      <td>1182.000000</td>\n",
       "    </tr>\n",
       "    <tr>\n",
       "      <th>25%</th>\n",
       "      <td>1808.000000</td>\n",
       "    </tr>\n",
       "    <tr>\n",
       "      <th>50%</th>\n",
       "      <td>1861.000000</td>\n",
       "    </tr>\n",
       "    <tr>\n",
       "      <th>75%</th>\n",
       "      <td>1917.000000</td>\n",
       "    </tr>\n",
       "    <tr>\n",
       "      <th>max</th>\n",
       "      <td>2468.000000</td>\n",
       "    </tr>\n",
       "  </tbody>\n",
       "</table>\n",
       "</div>"
      ],
      "text/plain": [
       "       Opponent_Rating\n",
       "count      6250.000000\n",
       "mean       1862.975200\n",
       "std         103.970483\n",
       "min        1182.000000\n",
       "25%        1808.000000\n",
       "50%        1861.000000\n",
       "75%        1917.000000\n",
       "max        2468.000000"
      ]
     },
     "execution_count": 5,
     "metadata": {},
     "output_type": "execute_result"
    }
   ],
   "source": [
    "fintan_games.describe()"
   ]
  },
  {
   "cell_type": "markdown",
   "metadata": {},
   "source": [
    "So there are 6250 games in the dataset, and my opponents had a mean rating of 1863, ranging between 1182 and 2468. <a id =\"accessing_columns\">[5]</a>"
   ]
  },
  {
   "cell_type": "code",
   "execution_count": 6,
   "metadata": {},
   "outputs": [
    {
     "name": "stdout",
     "output_type": "stream",
     "text": [
      "Counter({'Black': 3308, 'White': 2942}) \n",
      "\n",
      "Counter({'1': 2993, '0': 2923, '1/2': 334}) \n",
      "\n",
      "Counter({'180+0': 4743, '180+2': 290, '300+0': 259, '240+0': 197, '180+1': 155, '180+3': 83, '300+2': 79, '120+2': 71, '420+0': 37, '300+3': 37, '240+2': 35, '120+3': 34, '60+3': 34, '300+1': 33, '300+4': 23, '360+0': 22, '240+1': 20, '180+5': 14, '0+5': 12, '180+4': 10, '240+3': 9, '60+5': 8, '60+4': 7, '240+4': 6, '120+5': 4, '360+2': 4, '45+4': 3, '120+4': 3, '420+1': 3, '120+8': 2, '60+7': 2, '60+8': 2, '0+9': 1, '60+6': 1, '240+5': 1, '0+10': 1, '30+4': 1, '120+7': 1, '360+1': 1, '30+6': 1, '60+9': 1}) \n",
      "\n",
      "Counter({'g4': 2565, 'e4': 2177, 'd4': 935, 'c4': 156, 'Nf3': 141, 'g3': 54, 'e3': 44, 'f4': 43, 'b3': 40, 'b4': 34, 'Nc3': 15, 'd3': 13, 'a4': 13, 'c3': 9, 'h3': 5, 'h4': 2, nan: 2, 'f3': 1, 'a3': 1}) \n",
      "\n",
      "Counter({'e6': 1906, 'e5': 1589, 'd5': 1336, 'c5': 434, 'd6': 180, 'Nf6': 171, 'g6': 160, 'c6': 143, 'b6': 122, 'Nc6': 64, 'h5': 54, 'f5': 42, 'g5': 12, 'a5': 9, 'b5': 8, 'a6': 6, 'h6': 6, 'f6': 5, nan: 2, 'Nh6': 1}) \n",
      "\n"
     ]
    }
   ],
   "source": [
    "for i in ['My_Colour','My_Result','Time_Control','First_Move','Second_Move']:\n",
    "    print (cnt(fintan_games.iloc[:][i]),'\\n')"
   ]
  },
  {
   "cell_type": "markdown",
   "metadata": {},
   "source": [
    "So 3308 games as Black, 2942 as White (this is actually a little surprising over a sample of this size - I will assume an even distribution between the two), 2993 wins, 2923 losses and 334 draws. The vast majority of the games were 3 minutes a side, with a wide range of other time controls, most of which I don't ever remember playing.\n",
    "\n",
    "Most of the games opened with g4 (this is not really a good opening move, so it might seem surprising, but it is was my opening of choice for short games for a very long time, as there are some nice traps). e4 is much more standard, and makes perfect sense. The rest of the distribution all seems pretty credible. There is a 'nan' which is annoying, but I will leave it in because it's good to see how they are dealt with/ignored. \n",
    "\n",
    "Black's moves seem unsurprising at first glance, and there are two 'nan's again, which presumably match up with those for the White moves."
   ]
  },
  {
   "cell_type": "code",
   "execution_count": 7,
   "metadata": {},
   "outputs": [
    {
     "data": {
      "image/png": "[encoded data removed]",
      "text/plain": [
       "<Figure size 432x288 with 1 Axes>"
      ]
     },
     "metadata": {},
     "output_type": "display_data"
    }
   ],
   "source": [
    "sb.distplot(fintan_games['Opponent_Rating'],kde=False,bins=200) \n",
    "plt.show()"
   ]
  },
  {
   "cell_type": "markdown",
   "metadata": {},
   "source": [
    "The distribution appears normal with a mean of about 1850 (we saw earlier that the mean is 1864 with a standard distribution of 104)."
   ]
  },
  {
   "cell_type": "code",
   "execution_count": 8,
   "metadata": {},
   "outputs": [
    {
     "data": {
      "image/png": "[encoded data removed]",
      "text/plain": [
       "<Figure size 432x288 with 1 Axes>"
      ]
     },
     "metadata": {},
     "output_type": "display_data"
    }
   ],
   "source": [
    "win=fintan_games.loc[(fintan_games['My_Result']=='1')]\n",
    "draw=fintan_games.loc[fintan_games['My_Result']=='1/2']\n",
    "loss=fintan_games.loc[fintan_games['My_Result']=='0']\n",
    "sb.distplot(win[['Opponent_Rating']], hist=False, label='win')\n",
    "sb.distplot(draw[['Opponent_Rating']], hist=False, label='draw')\n",
    "sb.distplot(loss[['Opponent_Rating']], hist=False, label='loss')\n",
    "\n",
    "plt.show()"
   ]
  },
  {
   "cell_type": "markdown",
   "metadata": {},
   "source": [
    "This graph shows that, unsurprisingly, I win more games against lower-rated players, and lose more against higher-rated players. <a id = multiple_distplots>[4]</a> <a id = \"combinations\">[7]</a>"
   ]
  },
  {
   "cell_type": "code",
   "execution_count": 9,
   "metadata": {},
   "outputs": [
    {
     "data": {
      "image/png": "[encoded data removed]",
      "text/plain": [
       "<Figure size 432x288 with 1 Axes>"
      ]
     },
     "metadata": {},
     "output_type": "display_data"
    }
   ],
   "source": [
    "win_white=fintan_games.loc[(fintan_games['My_Result']=='1') & (fintan_games['My_Colour']=='White')]\n",
    "win_black=fintan_games.loc[(fintan_games['My_Result']=='1') & (fintan_games['My_Colour']=='Black')]\n",
    "loss_white=fintan_games.loc[(fintan_games['My_Result']=='0') & (fintan_games['My_Colour']=='White')]\n",
    "loss_black=fintan_games.loc[(fintan_games['My_Result']=='0') & (fintan_games['My_Colour']=='Black')]\n",
    "draw_white=fintan_games.loc[(fintan_games['My_Result']=='1/2') & (fintan_games['My_Colour']=='White')]\n",
    "draw_black=fintan_games.loc[(fintan_games['My_Result']=='1/2') & (fintan_games['My_Colour']=='Black')]\n",
    "\n",
    "sb.distplot(win_white[['Opponent_Rating']], hist=False, label='White win')\n",
    "sb.distplot(loss_white[['Opponent_Rating']], hist=False, label='White loss')\n",
    "sb.distplot(draw_white[['Opponent_Rating']], hist=False, label='White draw')\n",
    "sb.distplot(win_black[['Opponent_Rating']], hist=False, label='Black win')\n",
    "sb.distplot(loss_black[['Opponent_Rating']], hist=False, label='Black loss')\n",
    "sb.distplot(draw_black[['Opponent_Rating']], hist=False, label='Black draw')\n",
    "\n",
    "plt.show()"
   ]
  },
  {
   "cell_type": "code",
   "execution_count": 10,
   "metadata": {},
   "outputs": [
    {
     "name": "stdout",
     "output_type": "stream",
     "text": [
      "Opponent_Rating    1887.244977\n",
      "dtype: float64\n",
      "Opponent_Rating    1886.985881\n",
      "dtype: float64\n",
      "Opponent_Rating    1839.920105\n",
      "dtype: float64\n",
      "Opponent_Rating    1838.069577\n",
      "dtype: float64\n"
     ]
    }
   ],
   "source": [
    "print(loss_white.mean())\n",
    "print(loss_black.mean())\n",
    "print(win_white.mean())\n",
    "print(win_black.mean())\n",
    "\n"
   ]
  },
  {
   "cell_type": "markdown",
   "metadata": {},
   "source": [
    "There is nothing tremendously exciting here. Now I will look only at games with the 1.g4 opening, so see if there is anything noteworthy there. <a id ='show_legend'>[6]</a>"
   ]
  },
  {
   "cell_type": "code",
   "execution_count": 11,
   "metadata": {},
   "outputs": [
    {
     "data": {
      "image/png": "[encoded data removed]",
      "text/plain": [
       "<Figure size 432x288 with 1 Axes>"
      ]
     },
     "metadata": {},
     "output_type": "display_data"
    }
   ],
   "source": [
    "win_white_g4=fintan_games.loc[(fintan_games['My_Result']=='1') & (fintan_games['My_Colour']=='White') & (fintan_games['First_Move']=='g4')]\n",
    "loss_white_g4=fintan_games.loc[(fintan_games['My_Result']=='0') & (fintan_games['My_Colour']=='White') & (fintan_games['First_Move']=='g4')]\n",
    "draw_white_g4=fintan_games.loc[(fintan_games['My_Result']=='1/2') & (fintan_games['My_Colour']=='White') & (fintan_games['First_Move']=='g4')]\n",
    "\n",
    "sb.distplot(win_white[['Opponent_Rating']], hist=False, label='White win')\n",
    "sb.distplot(loss_white[['Opponent_Rating']], hist=False, label='White loss')\n",
    "sb.distplot(draw_white[['Opponent_Rating']], hist=False, label='White draw')\n",
    "sb.distplot(win_white_g4[['Opponent_Rating']], hist=False, label='g4: White win')\n",
    "sb.distplot(loss_white_g4[['Opponent_Rating']], hist=False, label='g4: White loss')\n",
    "sb.distplot(draw_white_g4[['Opponent_Rating']], hist=False, label='g4: White draw')\n",
    "\n",
    "plt.show()"
   ]
  },
  {
   "cell_type": "markdown",
   "metadata": {},
   "source": [
    "Given that g4 starts made up the majority of my games, it is not unusual that they match very closely with the overall results. The next most common appears to be e4; let me examine that."
   ]
  },
  {
   "cell_type": "code",
   "execution_count": 12,
   "metadata": {},
   "outputs": [
    {
     "data": {
      "image/png": "[encoded data removed]",
      "text/plain": [
       "<Figure size 432x288 with 1 Axes>"
      ]
     },
     "metadata": {},
     "output_type": "display_data"
    }
   ],
   "source": [
    "win_white_e4=fintan_games.loc[(fintan_games['My_Result']=='1') & (fintan_games['My_Colour']=='White') & (fintan_games['First_Move']=='e4')]\n",
    "loss_white_e4=fintan_games.loc[(fintan_games['My_Result']=='0') & (fintan_games['My_Colour']=='White') & (fintan_games['First_Move']=='e4')]\n",
    "draw_white_e4=fintan_games.loc[(fintan_games['My_Result']=='1/2') & (fintan_games['My_Colour']=='White') & (fintan_games['First_Move']=='e4')]\n",
    "\n",
    "sb.distplot(win_white[['Opponent_Rating']], hist=False, label='White win')\n",
    "sb.distplot(loss_white[['Opponent_Rating']], hist=False, label='White loss')\n",
    "sb.distplot(draw_white[['Opponent_Rating']], hist=False, label='White draw')\n",
    "sb.distplot(win_white_e4[['Opponent_Rating']], hist=False, label='e4: White win')\n",
    "sb.distplot(loss_white_e4[['Opponent_Rating']], hist=False, label='e4: White loss')\n",
    "sb.distplot(draw_white_e4[['Opponent_Rating']], hist=False, label='e4: White draw')\n",
    "\n",
    "plt.show()"
   ]
  },
  {
   "cell_type": "markdown",
   "metadata": {},
   "source": [
    "So playing e4 as White does not seem so good for me. Let me look at the responses to, say, g4.\n",
    "\n",
    "First, let me see the options."
   ]
  },
  {
   "cell_type": "code",
   "execution_count": 13,
   "metadata": {},
   "outputs": [
    {
     "name": "stdout",
     "output_type": "stream",
     "text": [
      "Counter({'d5': 1182, 'e5': 377, 'c5': 200, 'e6': 178, 'd6': 155, 'g6': 127, 'c6': 107, 'b6': 70, 'Nc6': 48, 'h5': 47, 'Nf6': 33, 'g5': 12, 'f5': 8, 'h6': 5, 'a5': 5, 'f6': 4, 'a6': 4, 'b5': 2, 'Nh6': 1})\n"
     ]
    }
   ],
   "source": [
    "fg=fintan_games\n",
    "\n",
    "print(cnt(fintan_games.loc[(fintan_games['First_Move']=='g4')]['Second_Move']))\n"
   ]
  },
  {
   "cell_type": "code",
   "execution_count": 14,
   "metadata": {},
   "outputs": [
    {
     "data": {
      "image/png": "[encoded data removed]",
      "text/plain": [
       "<Figure size 432x288 with 1 Axes>"
      ]
     },
     "metadata": {},
     "output_type": "display_data"
    }
   ],
   "source": [
    "win_white_g4d5=fg.loc[(fg['My_Result']=='1') & (fg['My_Colour']=='White') & (fg['First_Move']=='g4') & (fg['Second_Move']=='d5')]\n",
    "loss_white_g4d5=fg.loc[(fg['My_Result']=='0') & (fg['My_Colour']=='White') & (fg['First_Move']=='g4') & (fg['Second_Move']=='d5')]\n",
    "draw_white_g4d5=fg.loc[(fg['My_Result']=='1/2') & (fg['My_Colour']=='White') & (fg['First_Move']=='g4') & (fg['Second_Move']=='d5')]\n",
    "sb.distplot(win_white_g4d5[['Opponent_Rating']], hist=False, label='White win d5')\n",
    "sb.distplot(loss_white_g4d5[['Opponent_Rating']], hist=False, label='White loss d5')\n",
    "sb.distplot(draw_white_g4d5[['Opponent_Rating']], hist=False, label='White draw d5')\n",
    "\n",
    "win_white_g4e5=fg.loc[(fg['My_Result']=='1') & (fg['My_Colour']=='White') & (fg['First_Move']=='g4') & (fg['Second_Move']=='e5')]\n",
    "loss_white_g4e5=fg.loc[(fg['My_Result']=='0') & (fg['My_Colour']=='White') & (fg['First_Move']=='g4') & (fg['Second_Move']=='e5')]\n",
    "draw_white_g4e5=fg.loc[(fg['My_Result']=='1/2') & (fg['My_Colour']=='White') & (fg['First_Move']=='g4') & (fg['Second_Move']=='e5')]\n",
    "sb.distplot(win_white_g4e5[['Opponent_Rating']], hist=False, label='White win e5')\n",
    "sb.distplot(loss_white_g4e5[['Opponent_Rating']], hist=False, label='White loss e5')\n",
    "sb.distplot(draw_white_g4e5[['Opponent_Rating']], hist=False, label='White draw e5')\n",
    "\n",
    "win_white_g4c5=fg.loc[(fg['My_Result']=='1') & (fg['My_Colour']=='White') & (fg['First_Move']=='g4') & (fg['Second_Move']=='c5')]\n",
    "loss_white_g4c5=fg.loc[(fg['My_Result']=='0') & (fg['My_Colour']=='White') & (fg['First_Move']=='g4') & (fg['Second_Move']=='c5')]\n",
    "draw_white_g4c5=fg.loc[(fg['My_Result']=='1/2') & (fg['My_Colour']=='White') & (fg['First_Move']=='g4') & (fg['Second_Move']=='c5')]\n",
    "sb.distplot(win_white_g4c5[['Opponent_Rating']], hist=False, label='White win c5')\n",
    "sb.distplot(loss_white_g4c5[['Opponent_Rating']], hist=False, label='White loss c5')\n",
    "sb.distplot(draw_white_g4c5[['Opponent_Rating']], hist=False, label='White draw c5')\n",
    "\n",
    "win_white_g4e6=fg.loc[(fg['My_Result']=='1') & (fg['My_Colour']=='White') & (fg['First_Move']=='g4') & (fg['Second_Move']=='e6')]\n",
    "loss_white_g4e6=fg.loc[(fg['My_Result']=='0') & (fg['My_Colour']=='White') & (fg['First_Move']=='g4') & (fg['Second_Move']=='e6')]\n",
    "draw_white_g4e6=fg.loc[(fg['My_Result']=='1/2') & (fg['My_Colour']=='White') & (fg['First_Move']=='g4') & (fg['Second_Move']=='e6')]\n",
    "sb.distplot(win_white_g4e6[['Opponent_Rating']], hist=False, label='White win e6')\n",
    "sb.distplot(loss_white_g4e6[['Opponent_Rating']], hist=False, label='White loss e6')\n",
    "sb.distplot(draw_white_g4e6[['Opponent_Rating']], hist=False, label='White draw e6')\n",
    "\n",
    "win_white_g4g6=fg.loc[(fg['My_Result']=='1') & (fg['My_Colour']=='White') & (fg['First_Move']=='g4') & (fg['Second_Move']=='g6')]\n",
    "loss_white_g4g6=fg.loc[(fg['My_Result']=='0') & (fg['My_Colour']=='White') & (fg['First_Move']=='g4') & (fg['Second_Move']=='g6')]\n",
    "draw_white_g4g6=fg.loc[(fg['My_Result']=='1/2') & (fg['My_Colour']=='White') & (fg['First_Move']=='g4') & (fg['Second_Move']=='g6')]\n",
    "sb.distplot(win_white_g4g6[['Opponent_Rating']], hist=False, label='White win g6')\n",
    "sb.distplot(loss_white_g4g6[['Opponent_Rating']], hist=False, label='White loss g6')\n",
    "sb.distplot(draw_white_g4g6[['Opponent_Rating']], hist=False, label='White draw g6')\n",
    "\n",
    "win_white_g4c6=fg.loc[(fg['My_Result']=='1') & (fg['My_Colour']=='White') & (fg['First_Move']=='g4') & (fg['Second_Move']=='c6')]\n",
    "loss_white_g4c6=fg.loc[(fg['My_Result']=='0') & (fg['My_Colour']=='White') & (fg['First_Move']=='g4') & (fg['Second_Move']=='c6')]\n",
    "draw_white_g4c6=fg.loc[(fg['My_Result']=='1/2') & (fg['My_Colour']=='White') & (fg['First_Move']=='g4') & (fg['Second_Move']=='c6')]\n",
    "sb.distplot(win_white_g4c6[['Opponent_Rating']], hist=False, label='White win c6')\n",
    "sb.distplot(loss_white_g4c6[['Opponent_Rating']], hist=False, label='White loss c6')\n",
    "sb.distplot(draw_white_g4c6[['Opponent_Rating']], hist=False, label='White draw c6')\n",
    "\n",
    "plt.show()"
   ]
  },
  {
   "cell_type": "markdown",
   "metadata": {},
   "source": [
    "In hindsight, preserving the rating change after each game would have been a more useful variable. Ah well, next time..."
   ]
  },
  {
   "cell_type": "code",
   "execution_count": 15,
   "metadata": {},
   "outputs": [
    {
     "name": "stdout",
     "output_type": "stream",
     "text": [
      "Counter({'g4': 2565, 'e4': 2177, 'd4': 935, 'c4': 156, 'Nf3': 141, 'g3': 54, 'e3': 44, 'f4': 43, 'b3': 40, 'b4': 34, 'Nc3': 15, 'd3': 13, 'a4': 13, 'c3': 9, 'h3': 5, 'h4': 2, nan: 2, 'f3': 1, 'a3': 1}) \n",
      "\n",
      "d4\n",
      "Counter({'e5': 910, 'd5': 12, 'Nf6': 8, 'e6': 4, 'g6': 1}) \n",
      "\n",
      "e4\n",
      "Counter({'e6': 1678, 'e5': 250, 'c5': 103, 'd5': 62, 'c6': 22, 'd6': 18, 'Nf6': 16, 'b6': 9, 'Nc6': 5, 'h5': 5, 'g6': 3, 'f5': 2, 'a6': 2, 'a5': 2}) \n",
      "\n",
      "f4\n",
      "Counter({'f5': 31, 'e5': 5, 'b6': 2, 'e6': 2, 'd5': 2, 'a5': 1}) \n",
      "\n",
      "e3\n",
      "Counter({'e6': 35, 'e5': 5, 'd5': 3, 'h5': 1}) \n",
      "\n",
      "g3\n",
      "Counter({'g6': 28, 'd5': 10, 'e5': 8, 'c6': 3, 'e6': 1, 'd6': 1, 'Nc6': 1, 'b6': 1, 'b5': 1}) \n",
      "\n",
      "b3\n",
      "Counter({'b6': 36, 'g6': 1, 'd5': 1, 'e5': 1, 'b5': 1}) \n",
      "\n",
      "Nf3\n",
      "Counter({'Nf6': 101, 'd5': 34, 'e6': 4, 'e5': 1, 'Nc6': 1}) \n",
      "\n",
      "c4\n",
      "Counter({'c5': 130, 'd5': 12, 'e5': 11, 'c6': 1, 'e6': 1, 'Nc6': 1}) \n",
      "\n",
      "g4\n",
      "Counter({'d5': 1182, 'e5': 377, 'c5': 200, 'e6': 178, 'd6': 155, 'g6': 127, 'c6': 107, 'b6': 70, 'Nc6': 48, 'h5': 47, 'Nf6': 33, 'g5': 12, 'f5': 8, 'h6': 5, 'a5': 5, 'f6': 4, 'a6': 4, 'b5': 2, 'Nh6': 1}) \n",
      "\n",
      "Nc3\n",
      "Counter({'Nc6': 8, 'd5': 5, 'e5': 1, 'c5': 1}) \n",
      "\n",
      "b4\n",
      "Counter({'Nf6': 12, 'e5': 6, 'd5': 5, 'b5': 3, 'b6': 2, 'e6': 2, 'd6': 1, 'h5': 1, 'f5': 1, 'c6': 1}) \n",
      "\n",
      "d3\n",
      "Counter({'e5': 9, 'd6': 4}) \n",
      "\n",
      "f3\n",
      "Counter({'f6': 1}) \n",
      "\n",
      "a3\n",
      "Counter({'b5': 1}) \n",
      "\n",
      "c3\n",
      "Counter({'c6': 6, 'd5': 2, 'e5': 1}) \n",
      "\n",
      "a4\n",
      "Counter({'d5': 4, 'c6': 3, 'e5': 2, 'e6': 1, 'a5': 1, 'Nf6': 1, 'd6': 1}) \n",
      "\n",
      "h3\n",
      "Counter({'b6': 2, 'd5': 2, 'e5': 1}) \n",
      "\n",
      "h4\n",
      "Counter({'e5': 1, 'h6': 1}) \n",
      "\n",
      "nan\n",
      "Counter() \n",
      "\n"
     ]
    }
   ],
   "source": [
    "print(cnt(fg['First_Move']),'\\n')\n",
    "for i in cnt(fg['First_Move']):\n",
    "    print(i)\n",
    "    print(cnt(fintan_games.loc[(fintan_games['First_Move']==i)]['Second_Move']),'\\n')"
   ]
  },
  {
   "cell_type": "markdown",
   "metadata": {},
   "source": [
    "Of course, this counts both games where I am White and Black, and if I'm just looking to prepare against my opponents' first move, I need only look at games where I am Black. Somewhat interestingly, I note here that 19 of the possible 20 responses to g4 have been played, with only Na6 avoided entirely.\n",
    "\n",
    "So, to look only at games where I played Black:"
   ]
  },
  {
   "cell_type": "code",
   "execution_count": 16,
   "metadata": {},
   "outputs": [
    {
     "name": "stdout",
     "output_type": "stream",
     "text": [
      "Counter({'g4': 2565, 'e4': 2177, 'd4': 935, 'c4': 156, 'Nf3': 141, 'g3': 54, 'e3': 44, 'f4': 43, 'b3': 40, 'b4': 34, 'Nc3': 15, 'd3': 13, 'a4': 13, 'c3': 9, 'h3': 5, 'h4': 2, nan: 2, 'f3': 1, 'a3': 1}) \n",
      "\n",
      "d4\n",
      "Counter({'e5': 910, 'd5': 10, 'Nf6': 6, 'e6': 4, 'g6': 1}) \n",
      "\n",
      "e4\n",
      "Counter({'e6': 1633, 'e5': 159, 'd5': 35, 'Nf6': 7, 'c5': 3, 'h5': 3, 'f5': 1, 'd6': 1, 'a5': 1}) \n",
      "\n",
      "f4\n",
      "Counter({'f5': 31, 'e5': 5, 'b6': 2, 'e6': 2, 'd5': 2, 'a5': 1}) \n",
      "\n",
      "e3\n",
      "Counter({'e6': 35, 'e5': 5, 'd5': 2, 'h5': 1}) \n",
      "\n",
      "g3\n",
      "Counter({'g6': 28, 'd5': 6, 'e5': 6, 'b5': 1}) \n",
      "\n",
      "b3\n",
      "Counter({'b6': 36, 'd5': 1, 'e5': 1, 'b5': 1}) \n",
      "\n",
      "Nf3\n",
      "Counter({'Nf6': 101, 'd5': 33, 'e6': 4, 'e5': 1, 'Nc6': 1}) \n",
      "\n",
      "c4\n",
      "Counter({'c5': 130, 'd5': 12, 'e5': 11, 'c6': 1, 'e6': 1, 'Nc6': 1}) \n",
      "\n",
      "g4\n",
      "Counter({'d6': 3, 'Nc6': 2, 'c6': 1, 'd5': 1}) \n",
      "\n",
      "Nc3\n",
      "Counter({'Nc6': 8, 'd5': 5, 'e5': 1, 'c5': 1}) \n",
      "\n",
      "b4\n",
      "Counter({'Nf6': 9, 'b5': 3, 'd5': 2, 'e5': 2, 'b6': 1, 'e6': 1}) \n",
      "\n",
      "d3\n",
      "Counter({'e5': 9, 'd6': 4}) \n",
      "\n",
      "f3\n",
      "Counter({'f6': 1}) \n",
      "\n",
      "a3\n",
      "Counter({'b5': 1}) \n",
      "\n",
      "c3\n",
      "Counter({'c6': 6, 'd5': 2, 'e5': 1}) \n",
      "\n",
      "a4\n",
      "Counter({'a5': 1}) \n",
      "\n",
      "h3\n",
      "Counter({'b6': 2, 'd5': 2, 'e5': 1}) \n",
      "\n",
      "h4\n",
      "Counter() \n",
      "\n",
      "nan\n",
      "Counter() \n",
      "\n"
     ]
    }
   ],
   "source": [
    "print(cnt(fg['First_Move']),'\\n')\n",
    "for i in cnt(fg['First_Move']):\n",
    "    print(i)\n",
    "    print(cnt(fg.loc[(fg['First_Move']==i) & (fg['My_Colour']=='Black')]['Second_Move']),'\\n')"
   ]
  },
  {
   "cell_type": "markdown",
   "metadata": {
    "collapsed": true
   },
   "source": [
    "So, due to an interesting (to me) but perhaps unwisely chosen, or at least, unwisely reduced data set, there are no numerical correlation analyses to conduct. I guess I will simulate a normally distributed data set with mean 1863 and standard deviation of 104. I will randomly assign half each to Black and White, a Win:Draw:Loss ratio of about 30:29:3. Of the white openings (for me), about 5/6ths should be g4 (my opponents, being presumably sane, would no\\t play it much). I'll let the other 1/6th be randomly selected, though this won't necessarily be strictly accurate. For games where I am Black, I think I will just let both White's and Black's first moves be random, because there is nothing terribly interesting to be gleaned from them anyway. The time variable is boring, so I will ignore it entirely.\n",
    "\n"
   ]
  },
  {
   "cell_type": "markdown",
   "metadata": {
    "collapsed": true
   },
   "source": [
    "#### Generate a normally distributed data set \n",
    "with a mean of 1863 and a standard deviation of 104.<a id =\"rounding\">[8]</a>,<a id =\"generating_random_data\">[9]</a>"
   ]
  },
  {
   "cell_type": "code",
   "execution_count": 17,
   "metadata": {},
   "outputs": [],
   "source": [
    "from scipy.stats import norm\n",
    "\n",
    "mean_rating = 1863\n",
    "std_devn_rating = 104\n",
    "\n",
    "next_games = []\n",
    "for i in range(1000):\n",
    "    new_val=mean_rating + np.random.normal()*std_devn_rating\n",
    "    next_games.append(round(new_val))"
   ]
  },
  {
   "cell_type": "code",
   "execution_count": 18,
   "metadata": {},
   "outputs": [
    {
     "data": {
      "image/png": "[encoded data removed]",
      "text/plain": [
       "<Figure size 432x288 with 1 Axes>"
      ]
     },
     "metadata": {},
     "output_type": "display_data"
    }
   ],
   "source": [
    "fake = pd.DataFrame(next_games, columns=['Fake_Opponent_Rating'])\n",
    "sb.distplot(fake['Fake_Opponent_Rating'],kde=False,bins=200) \n",
    "plt.show()"
   ]
  },
  {
   "cell_type": "markdown",
   "metadata": {},
   "source": [
    "#### Randomly assign Black and White\n",
    "<a id =\"pick_from_a_list\">[10]</a>"
   ]
  },
  {
   "cell_type": "code",
   "execution_count": 19,
   "metadata": {},
   "outputs": [
    {
     "data": {
      "text/html": [
       "<div>\n",
       "<style scoped>\n",
       "    .dataframe tbody tr th:only-of-type {\n",
       "        vertical-align: middle;\n",
       "    }\n",
       "\n",
       "    .dataframe tbody tr th {\n",
       "        vertical-align: top;\n",
       "    }\n",
       "\n",
       "    .dataframe thead th {\n",
       "        text-align: right;\n",
       "    }\n",
       "</style>\n",
       "<table border=\"1\" class=\"dataframe\">\n",
       "  <thead>\n",
       "    <tr style=\"text-align: right;\">\n",
       "      <th></th>\n",
       "      <th>Fake_Opponent_Rating</th>\n",
       "      <th>Fake_Colour</th>\n",
       "    </tr>\n",
       "  </thead>\n",
       "  <tbody>\n",
       "    <tr>\n",
       "      <th>0</th>\n",
       "      <td>2033</td>\n",
       "      <td>White</td>\n",
       "    </tr>\n",
       "    <tr>\n",
       "      <th>1</th>\n",
       "      <td>1823</td>\n",
       "      <td>Black</td>\n",
       "    </tr>\n",
       "    <tr>\n",
       "      <th>2</th>\n",
       "      <td>1925</td>\n",
       "      <td>White</td>\n",
       "    </tr>\n",
       "    <tr>\n",
       "      <th>3</th>\n",
       "      <td>1888</td>\n",
       "      <td>Black</td>\n",
       "    </tr>\n",
       "    <tr>\n",
       "      <th>4</th>\n",
       "      <td>1922</td>\n",
       "      <td>Black</td>\n",
       "    </tr>\n",
       "  </tbody>\n",
       "</table>\n",
       "</div>"
      ],
      "text/plain": [
       "   Fake_Opponent_Rating Fake_Colour\n",
       "0                  2033       White\n",
       "1                  1823       Black\n",
       "2                  1925       White\n",
       "3                  1888       Black\n",
       "4                  1922       Black"
      ]
     },
     "execution_count": 19,
     "metadata": {},
     "output_type": "execute_result"
    }
   ],
   "source": [
    "import random\n",
    "\n",
    "bw=['White','Black']\n",
    "colours=[]\n",
    "for i in range(1000):\n",
    "    colours.append(random.choice(bw))\n",
    "fake.insert(1,\"Fake_Colour\",colours,True)\n",
    "fake.head()"
   ]
  },
  {
   "cell_type": "code",
   "execution_count": 20,
   "metadata": {},
   "outputs": [
    {
     "data": {
      "image/png": "[encoded data removed]",
      "text/plain": [
       "<Figure size 432x288 with 1 Axes>"
      ]
     },
     "metadata": {},
     "output_type": "display_data"
    }
   ],
   "source": [
    "fake_my_colour_w=fake.loc[fake['Fake_Colour']=='White']\n",
    "fake_my_colour_b=fake.loc[fake['Fake_Colour']=='Black']\n",
    "\n",
    "\n",
    "sb.distplot(fake_my_colour_w[['Fake_Opponent_Rating']], hist=False, label='Play white')\n",
    "sb.distplot(fake_my_colour_b[['Fake_Opponent_Rating']], hist=False, label='Play black')\n",
    "\n",
    "plt.show()"
   ]
  },
  {
   "cell_type": "markdown",
   "metadata": {},
   "source": [
    "Checks out. \n",
    "\n",
    "#### Choosing openings\n",
    "For games where I am White, I will make g4 be 5/6ths of the first moves, and the rest be, say, e4 or Nf3. There is no real educational benefit to making this list longer and including more openings.\n",
    "For the second move, I will again let the move be randomish, except where I am Black I will play d4 in response to e5, and e6 in response to e4.\n",
    "\n",
    "First, creating the First move and Second move columns.<a id =\"empty_cols\">[12]</a>"
   ]
  },
  {
   "cell_type": "code",
   "execution_count": 21,
   "metadata": {},
   "outputs": [
    {
     "data": {
      "text/html": [
       "<div>\n",
       "<style scoped>\n",
       "    .dataframe tbody tr th:only-of-type {\n",
       "        vertical-align: middle;\n",
       "    }\n",
       "\n",
       "    .dataframe tbody tr th {\n",
       "        vertical-align: top;\n",
       "    }\n",
       "\n",
       "    .dataframe thead th {\n",
       "        text-align: right;\n",
       "    }\n",
       "</style>\n",
       "<table border=\"1\" class=\"dataframe\">\n",
       "  <thead>\n",
       "    <tr style=\"text-align: right;\">\n",
       "      <th></th>\n",
       "      <th>Fake_Opponent_Rating</th>\n",
       "      <th>Fake_Colour</th>\n",
       "      <th>Fake_First_Move</th>\n",
       "      <th>Fake_Second_Move</th>\n",
       "    </tr>\n",
       "  </thead>\n",
       "  <tbody>\n",
       "    <tr>\n",
       "      <th>0</th>\n",
       "      <td>2033</td>\n",
       "      <td>White</td>\n",
       "      <td></td>\n",
       "      <td></td>\n",
       "    </tr>\n",
       "    <tr>\n",
       "      <th>1</th>\n",
       "      <td>1823</td>\n",
       "      <td>Black</td>\n",
       "      <td></td>\n",
       "      <td></td>\n",
       "    </tr>\n",
       "    <tr>\n",
       "      <th>2</th>\n",
       "      <td>1925</td>\n",
       "      <td>White</td>\n",
       "      <td></td>\n",
       "      <td></td>\n",
       "    </tr>\n",
       "    <tr>\n",
       "      <th>3</th>\n",
       "      <td>1888</td>\n",
       "      <td>Black</td>\n",
       "      <td></td>\n",
       "      <td></td>\n",
       "    </tr>\n",
       "    <tr>\n",
       "      <th>4</th>\n",
       "      <td>1922</td>\n",
       "      <td>Black</td>\n",
       "      <td></td>\n",
       "      <td></td>\n",
       "    </tr>\n",
       "    <tr>\n",
       "      <th>5</th>\n",
       "      <td>1769</td>\n",
       "      <td>White</td>\n",
       "      <td></td>\n",
       "      <td></td>\n",
       "    </tr>\n",
       "    <tr>\n",
       "      <th>6</th>\n",
       "      <td>1946</td>\n",
       "      <td>Black</td>\n",
       "      <td></td>\n",
       "      <td></td>\n",
       "    </tr>\n",
       "    <tr>\n",
       "      <th>7</th>\n",
       "      <td>1760</td>\n",
       "      <td>Black</td>\n",
       "      <td></td>\n",
       "      <td></td>\n",
       "    </tr>\n",
       "    <tr>\n",
       "      <th>8</th>\n",
       "      <td>2125</td>\n",
       "      <td>Black</td>\n",
       "      <td></td>\n",
       "      <td></td>\n",
       "    </tr>\n",
       "    <tr>\n",
       "      <th>9</th>\n",
       "      <td>1789</td>\n",
       "      <td>White</td>\n",
       "      <td></td>\n",
       "      <td></td>\n",
       "    </tr>\n",
       "  </tbody>\n",
       "</table>\n",
       "</div>"
      ],
      "text/plain": [
       "   Fake_Opponent_Rating Fake_Colour Fake_First_Move Fake_Second_Move\n",
       "0                  2033       White                                 \n",
       "1                  1823       Black                                 \n",
       "2                  1925       White                                 \n",
       "3                  1888       Black                                 \n",
       "4                  1922       Black                                 \n",
       "5                  1769       White                                 \n",
       "6                  1946       Black                                 \n",
       "7                  1760       Black                                 \n",
       "8                  2125       Black                                 \n",
       "9                  1789       White                                 "
      ]
     },
     "execution_count": 21,
     "metadata": {},
     "output_type": "execute_result"
    }
   ],
   "source": [
    "fake[\"Fake_First_Move\"]=\"\"\n",
    "fake[\"Fake_Second_Move\"]=\"\"\n",
    "fake.head(10)"
   ]
  },
  {
   "cell_type": "markdown",
   "metadata": {},
   "source": [
    "Now we set the First and Second move values <a id =\"assign_df_vals\">[11]</a>"
   ]
  },
  {
   "cell_type": "code",
   "execution_count": 22,
   "metadata": {},
   "outputs": [
    {
     "data": {
      "text/html": [
       "<div>\n",
       "<style scoped>\n",
       "    .dataframe tbody tr th:only-of-type {\n",
       "        vertical-align: middle;\n",
       "    }\n",
       "\n",
       "    .dataframe tbody tr th {\n",
       "        vertical-align: top;\n",
       "    }\n",
       "\n",
       "    .dataframe thead th {\n",
       "        text-align: right;\n",
       "    }\n",
       "</style>\n",
       "<table border=\"1\" class=\"dataframe\">\n",
       "  <thead>\n",
       "    <tr style=\"text-align: right;\">\n",
       "      <th></th>\n",
       "      <th>Fake_Opponent_Rating</th>\n",
       "      <th>Fake_Colour</th>\n",
       "      <th>Fake_First_Move</th>\n",
       "      <th>Fake_Second_Move</th>\n",
       "    </tr>\n",
       "  </thead>\n",
       "  <tbody>\n",
       "    <tr>\n",
       "      <th>0</th>\n",
       "      <td>2033</td>\n",
       "      <td>White</td>\n",
       "      <td>Nf3</td>\n",
       "      <td></td>\n",
       "    </tr>\n",
       "    <tr>\n",
       "      <th>1</th>\n",
       "      <td>1823</td>\n",
       "      <td>Black</td>\n",
       "      <td>Nf3</td>\n",
       "      <td></td>\n",
       "    </tr>\n",
       "    <tr>\n",
       "      <th>2</th>\n",
       "      <td>1925</td>\n",
       "      <td>White</td>\n",
       "      <td>e4</td>\n",
       "      <td></td>\n",
       "    </tr>\n",
       "    <tr>\n",
       "      <th>3</th>\n",
       "      <td>1888</td>\n",
       "      <td>Black</td>\n",
       "      <td>d4</td>\n",
       "      <td></td>\n",
       "    </tr>\n",
       "    <tr>\n",
       "      <th>4</th>\n",
       "      <td>1922</td>\n",
       "      <td>Black</td>\n",
       "      <td>d4</td>\n",
       "      <td></td>\n",
       "    </tr>\n",
       "    <tr>\n",
       "      <th>5</th>\n",
       "      <td>1769</td>\n",
       "      <td>White</td>\n",
       "      <td>Nf3</td>\n",
       "      <td></td>\n",
       "    </tr>\n",
       "    <tr>\n",
       "      <th>6</th>\n",
       "      <td>1946</td>\n",
       "      <td>Black</td>\n",
       "      <td>d4</td>\n",
       "      <td></td>\n",
       "    </tr>\n",
       "    <tr>\n",
       "      <th>7</th>\n",
       "      <td>1760</td>\n",
       "      <td>Black</td>\n",
       "      <td>d4</td>\n",
       "      <td></td>\n",
       "    </tr>\n",
       "    <tr>\n",
       "      <th>8</th>\n",
       "      <td>2125</td>\n",
       "      <td>Black</td>\n",
       "      <td>Nf3</td>\n",
       "      <td></td>\n",
       "    </tr>\n",
       "    <tr>\n",
       "      <th>9</th>\n",
       "      <td>1789</td>\n",
       "      <td>White</td>\n",
       "      <td>e4</td>\n",
       "      <td></td>\n",
       "    </tr>\n",
       "  </tbody>\n",
       "</table>\n",
       "</div>"
      ],
      "text/plain": [
       "   Fake_Opponent_Rating Fake_Colour Fake_First_Move Fake_Second_Move\n",
       "0                  2033       White             Nf3                 \n",
       "1                  1823       Black             Nf3                 \n",
       "2                  1925       White              e4                 \n",
       "3                  1888       Black              d4                 \n",
       "4                  1922       Black              d4                 \n",
       "5                  1769       White             Nf3                 \n",
       "6                  1946       Black              d4                 \n",
       "7                  1760       Black              d4                 \n",
       "8                  2125       Black             Nf3                 \n",
       "9                  1789       White              e4                 "
      ]
     },
     "execution_count": 22,
     "metadata": {},
     "output_type": "execute_result"
    }
   ],
   "source": [
    "my_weight_dict = {\n",
    "  \"g4\": 5/6,\n",
    "  \"e4\": 1/12,\n",
    "  \"Nf3\": 1/12,\n",
    "}\n",
    "\n",
    "other_weight_dict={\n",
    "    \"e4\":1/3,\n",
    "    \"d4\":1/3,\n",
    "    \"Nf3\":1/3,\n",
    "}\n",
    "\n",
    "for i in range(1000):\n",
    "    if fake['Fake_Colour'][i]=='White':\n",
    "            fake.at[i,'Fake_First_Move']=random.choice(list(my_weight_dict))\n",
    "    else:\n",
    "        fake.at[i,'Fake_First_Move']=random.choice(list(other_weight_dict))\n",
    "fake.head(10)"
   ]
  },
  {
   "cell_type": "code",
   "execution_count": 23,
   "metadata": {},
   "outputs": [
    {
     "data": {
      "text/html": [
       "<div>\n",
       "<style scoped>\n",
       "    .dataframe tbody tr th:only-of-type {\n",
       "        vertical-align: middle;\n",
       "    }\n",
       "\n",
       "    .dataframe tbody tr th {\n",
       "        vertical-align: top;\n",
       "    }\n",
       "\n",
       "    .dataframe thead th {\n",
       "        text-align: right;\n",
       "    }\n",
       "</style>\n",
       "<table border=\"1\" class=\"dataframe\">\n",
       "  <thead>\n",
       "    <tr style=\"text-align: right;\">\n",
       "      <th></th>\n",
       "      <th>Fake_Opponent_Rating</th>\n",
       "      <th>Fake_Colour</th>\n",
       "      <th>Fake_First_Move</th>\n",
       "      <th>Fake_Second_Move</th>\n",
       "    </tr>\n",
       "  </thead>\n",
       "  <tbody>\n",
       "    <tr>\n",
       "      <th>0</th>\n",
       "      <td>2033</td>\n",
       "      <td>White</td>\n",
       "      <td>Nf3</td>\n",
       "      <td>Nf6</td>\n",
       "    </tr>\n",
       "    <tr>\n",
       "      <th>1</th>\n",
       "      <td>1823</td>\n",
       "      <td>Black</td>\n",
       "      <td>Nf3</td>\n",
       "      <td>c6</td>\n",
       "    </tr>\n",
       "    <tr>\n",
       "      <th>2</th>\n",
       "      <td>1925</td>\n",
       "      <td>White</td>\n",
       "      <td>e4</td>\n",
       "      <td>c6</td>\n",
       "    </tr>\n",
       "    <tr>\n",
       "      <th>3</th>\n",
       "      <td>1888</td>\n",
       "      <td>Black</td>\n",
       "      <td>d4</td>\n",
       "      <td>e5</td>\n",
       "    </tr>\n",
       "    <tr>\n",
       "      <th>4</th>\n",
       "      <td>1922</td>\n",
       "      <td>Black</td>\n",
       "      <td>d4</td>\n",
       "      <td>e5</td>\n",
       "    </tr>\n",
       "    <tr>\n",
       "      <th>5</th>\n",
       "      <td>1769</td>\n",
       "      <td>White</td>\n",
       "      <td>Nf3</td>\n",
       "      <td>e5</td>\n",
       "    </tr>\n",
       "    <tr>\n",
       "      <th>6</th>\n",
       "      <td>1946</td>\n",
       "      <td>Black</td>\n",
       "      <td>d4</td>\n",
       "      <td>e5</td>\n",
       "    </tr>\n",
       "    <tr>\n",
       "      <th>7</th>\n",
       "      <td>1760</td>\n",
       "      <td>Black</td>\n",
       "      <td>d4</td>\n",
       "      <td>e5</td>\n",
       "    </tr>\n",
       "    <tr>\n",
       "      <th>8</th>\n",
       "      <td>2125</td>\n",
       "      <td>Black</td>\n",
       "      <td>Nf3</td>\n",
       "      <td>c6</td>\n",
       "    </tr>\n",
       "    <tr>\n",
       "      <th>9</th>\n",
       "      <td>1789</td>\n",
       "      <td>White</td>\n",
       "      <td>e4</td>\n",
       "      <td>c6</td>\n",
       "    </tr>\n",
       "    <tr>\n",
       "      <th>10</th>\n",
       "      <td>1919</td>\n",
       "      <td>Black</td>\n",
       "      <td>Nf3</td>\n",
       "      <td>d5</td>\n",
       "    </tr>\n",
       "    <tr>\n",
       "      <th>11</th>\n",
       "      <td>1942</td>\n",
       "      <td>Black</td>\n",
       "      <td>d4</td>\n",
       "      <td>e5</td>\n",
       "    </tr>\n",
       "    <tr>\n",
       "      <th>12</th>\n",
       "      <td>1883</td>\n",
       "      <td>White</td>\n",
       "      <td>Nf3</td>\n",
       "      <td>Nf6</td>\n",
       "    </tr>\n",
       "    <tr>\n",
       "      <th>13</th>\n",
       "      <td>1886</td>\n",
       "      <td>White</td>\n",
       "      <td>e4</td>\n",
       "      <td>e5</td>\n",
       "    </tr>\n",
       "    <tr>\n",
       "      <th>14</th>\n",
       "      <td>1902</td>\n",
       "      <td>Black</td>\n",
       "      <td>e4</td>\n",
       "      <td>e6</td>\n",
       "    </tr>\n",
       "    <tr>\n",
       "      <th>15</th>\n",
       "      <td>2059</td>\n",
       "      <td>Black</td>\n",
       "      <td>e4</td>\n",
       "      <td>e6</td>\n",
       "    </tr>\n",
       "    <tr>\n",
       "      <th>16</th>\n",
       "      <td>1906</td>\n",
       "      <td>White</td>\n",
       "      <td>e4</td>\n",
       "      <td>c6</td>\n",
       "    </tr>\n",
       "    <tr>\n",
       "      <th>17</th>\n",
       "      <td>1861</td>\n",
       "      <td>Black</td>\n",
       "      <td>e4</td>\n",
       "      <td>e6</td>\n",
       "    </tr>\n",
       "    <tr>\n",
       "      <th>18</th>\n",
       "      <td>1829</td>\n",
       "      <td>Black</td>\n",
       "      <td>Nf3</td>\n",
       "      <td>e5</td>\n",
       "    </tr>\n",
       "    <tr>\n",
       "      <th>19</th>\n",
       "      <td>1868</td>\n",
       "      <td>White</td>\n",
       "      <td>Nf3</td>\n",
       "      <td>c6</td>\n",
       "    </tr>\n",
       "  </tbody>\n",
       "</table>\n",
       "</div>"
      ],
      "text/plain": [
       "    Fake_Opponent_Rating Fake_Colour Fake_First_Move Fake_Second_Move\n",
       "0                   2033       White             Nf3              Nf6\n",
       "1                   1823       Black             Nf3               c6\n",
       "2                   1925       White              e4               c6\n",
       "3                   1888       Black              d4               e5\n",
       "4                   1922       Black              d4               e5\n",
       "5                   1769       White             Nf3               e5\n",
       "6                   1946       Black              d4               e5\n",
       "7                   1760       Black              d4               e5\n",
       "8                   2125       Black             Nf3               c6\n",
       "9                   1789       White              e4               c6\n",
       "10                  1919       Black             Nf3               d5\n",
       "11                  1942       Black              d4               e5\n",
       "12                  1883       White             Nf3              Nf6\n",
       "13                  1886       White              e4               e5\n",
       "14                  1902       Black              e4               e6\n",
       "15                  2059       Black              e4               e6\n",
       "16                  1906       White              e4               c6\n",
       "17                  1861       Black              e4               e6\n",
       "18                  1829       Black             Nf3               e5\n",
       "19                  1868       White             Nf3               c6"
      ]
     },
     "execution_count": 23,
     "metadata": {},
     "output_type": "execute_result"
    }
   ],
   "source": [
    "weight_dict = {\n",
    "  \"d5\": 1/4,\n",
    "  \"c6\": 1/4,\n",
    "  \"Nf6\": 1/4,\n",
    "  \"e5\":1/4\n",
    "}\n",
    "\n",
    "for i in range(1000):\n",
    "    if fake['Fake_Colour'][i]=='Black' and fake['Fake_First_Move'][i]=='d4':\n",
    "            fake.at[i,'Fake_Second_Move']='e5'\n",
    "    else:\n",
    "        if fake['Fake_Colour'][i]=='Black' and fake['Fake_First_Move'][i]=='e4':\n",
    "            fake.at[i,'Fake_Second_Move']='e6'\n",
    "        else:\n",
    "            fake.at[i,'Fake_Second_Move']=random.choice(list(weight_dict))\n",
    "fake.head(20)"
   ]
  },
  {
   "cell_type": "markdown",
   "metadata": {},
   "source": [
    "Now we have generated the first and second moves. There just remains to assign a Win:Draw:Loss to each of the games. It will be more interesting if I am more likely to lose to a stronger player, and less likely to lose to a weaker player.\n",
    "\n",
    "This jpeg grabbed from chess.com <a id =\"rating_diffs\">[13]</a> (original source seems to be gone), indicates an estimated win/loss prediction for a given rating difference. This list is more involved than I need, so I will create my own simpler table.<a id =\"my_table\">[14]</a>,<a id =\"check_range\">[15]</a>\n",
    "\n",
    "![rating_diffs](rating_diffs.jpeg \"rating_diffs\")\n",
    "\n",
    "| Rating Diff | Win percentage |\n",
    "| --- | --- |\n",
    "| <-800 | 0 |\n",
    "| -600 | 1 |\n",
    "| -400 | 8 |\n",
    "| -200 | 24 |\n",
    "| 0 | 50 |\n",
    "| 200 | 76 |\n",
    "| 400 | 92 |\n",
    "| 600 | 99 |\n",
    "| >800 | 100 |"
   ]
  },
  {
   "cell_type": "code",
   "execution_count": 24,
   "metadata": {},
   "outputs": [
    {
     "data": {
      "text/html": [
       "<div>\n",
       "<style scoped>\n",
       "    .dataframe tbody tr th:only-of-type {\n",
       "        vertical-align: middle;\n",
       "    }\n",
       "\n",
       "    .dataframe tbody tr th {\n",
       "        vertical-align: top;\n",
       "    }\n",
       "\n",
       "    .dataframe thead th {\n",
       "        text-align: right;\n",
       "    }\n",
       "</style>\n",
       "<table border=\"1\" class=\"dataframe\">\n",
       "  <thead>\n",
       "    <tr style=\"text-align: right;\">\n",
       "      <th></th>\n",
       "      <th>rating_min</th>\n",
       "      <th>rating_max</th>\n",
       "      <th>chance</th>\n",
       "    </tr>\n",
       "  </thead>\n",
       "  <tbody>\n",
       "    <tr>\n",
       "      <th>0</th>\n",
       "      <td>-2000</td>\n",
       "      <td>-800</td>\n",
       "      <td>0</td>\n",
       "    </tr>\n",
       "    <tr>\n",
       "      <th>1</th>\n",
       "      <td>-801</td>\n",
       "      <td>-600</td>\n",
       "      <td>1</td>\n",
       "    </tr>\n",
       "    <tr>\n",
       "      <th>2</th>\n",
       "      <td>-601</td>\n",
       "      <td>-400</td>\n",
       "      <td>8</td>\n",
       "    </tr>\n",
       "    <tr>\n",
       "      <th>3</th>\n",
       "      <td>-401</td>\n",
       "      <td>-200</td>\n",
       "      <td>24</td>\n",
       "    </tr>\n",
       "    <tr>\n",
       "      <th>4</th>\n",
       "      <td>-201</td>\n",
       "      <td>0</td>\n",
       "      <td>50</td>\n",
       "    </tr>\n",
       "    <tr>\n",
       "      <th>5</th>\n",
       "      <td>1</td>\n",
       "      <td>200</td>\n",
       "      <td>50</td>\n",
       "    </tr>\n",
       "    <tr>\n",
       "      <th>6</th>\n",
       "      <td>201</td>\n",
       "      <td>400</td>\n",
       "      <td>76</td>\n",
       "    </tr>\n",
       "    <tr>\n",
       "      <th>7</th>\n",
       "      <td>401</td>\n",
       "      <td>600</td>\n",
       "      <td>92</td>\n",
       "    </tr>\n",
       "    <tr>\n",
       "      <th>8</th>\n",
       "      <td>601</td>\n",
       "      <td>800</td>\n",
       "      <td>99</td>\n",
       "    </tr>\n",
       "    <tr>\n",
       "      <th>9</th>\n",
       "      <td>801</td>\n",
       "      <td>2000</td>\n",
       "      <td>100</td>\n",
       "    </tr>\n",
       "  </tbody>\n",
       "</table>\n",
       "</div>"
      ],
      "text/plain": [
       "   rating_min  rating_max  chance\n",
       "0       -2000        -800       0\n",
       "1        -801        -600       1\n",
       "2        -601        -400       8\n",
       "3        -401        -200      24\n",
       "4        -201           0      50\n",
       "5           1         200      50\n",
       "6         201         400      76\n",
       "7         401         600      92\n",
       "8         601         800      99\n",
       "9         801        2000     100"
      ]
     },
     "execution_count": 24,
     "metadata": {},
     "output_type": "execute_result"
    }
   ],
   "source": [
    "chess_min=[-2000,-801,-601,-401,-201,1,201,401,601,801]\n",
    "chess_max=[-800,-600,-400,-200,0,200,400,600,800,2000]\n",
    "chess_chance=[0,1,8,24,50,50,76,92,99,100]\n",
    "\n",
    "rating_change = pd.DataFrame(chess_min, columns=['rating_min'])\n",
    "\n",
    "rating_change.insert(1,\"rating_max\",chess_max,True)\n",
    "rating_change\n",
    "\n",
    "rating_change.insert(2,\"chance\",chess_chance,True)\n",
    "\n",
    "rating_change\n"
   ]
  },
  {
   "cell_type": "markdown",
   "metadata": {},
   "source": [
    "Okay, so new database created which we can use to estimate how many games I should win, depending on the difference between my rating and my opponents'. (Will assume my rating is mean rating: 1863)."
   ]
  },
  {
   "cell_type": "code",
   "execution_count": 25,
   "metadata": {},
   "outputs": [
    {
     "data": {
      "text/html": [
       "<div>\n",
       "<style scoped>\n",
       "    .dataframe tbody tr th:only-of-type {\n",
       "        vertical-align: middle;\n",
       "    }\n",
       "\n",
       "    .dataframe tbody tr th {\n",
       "        vertical-align: top;\n",
       "    }\n",
       "\n",
       "    .dataframe thead th {\n",
       "        text-align: right;\n",
       "    }\n",
       "</style>\n",
       "<table border=\"1\" class=\"dataframe\">\n",
       "  <thead>\n",
       "    <tr style=\"text-align: right;\">\n",
       "      <th></th>\n",
       "      <th>Fake_Opponent_Rating</th>\n",
       "      <th>Fake_Colour</th>\n",
       "      <th>Fake_First_Move</th>\n",
       "      <th>Fake_Second_Move</th>\n",
       "      <th>Fake_Result</th>\n",
       "    </tr>\n",
       "  </thead>\n",
       "  <tbody>\n",
       "    <tr>\n",
       "      <th>0</th>\n",
       "      <td>2033</td>\n",
       "      <td>White</td>\n",
       "      <td>Nf3</td>\n",
       "      <td>Nf6</td>\n",
       "      <td>0</td>\n",
       "    </tr>\n",
       "    <tr>\n",
       "      <th>1</th>\n",
       "      <td>1823</td>\n",
       "      <td>Black</td>\n",
       "      <td>Nf3</td>\n",
       "      <td>c6</td>\n",
       "      <td>0</td>\n",
       "    </tr>\n",
       "    <tr>\n",
       "      <th>2</th>\n",
       "      <td>1925</td>\n",
       "      <td>White</td>\n",
       "      <td>e4</td>\n",
       "      <td>c6</td>\n",
       "      <td>1</td>\n",
       "    </tr>\n",
       "    <tr>\n",
       "      <th>3</th>\n",
       "      <td>1888</td>\n",
       "      <td>Black</td>\n",
       "      <td>d4</td>\n",
       "      <td>e5</td>\n",
       "      <td>0</td>\n",
       "    </tr>\n",
       "    <tr>\n",
       "      <th>4</th>\n",
       "      <td>1922</td>\n",
       "      <td>Black</td>\n",
       "      <td>d4</td>\n",
       "      <td>e5</td>\n",
       "      <td>0</td>\n",
       "    </tr>\n",
       "    <tr>\n",
       "      <th>...</th>\n",
       "      <td>...</td>\n",
       "      <td>...</td>\n",
       "      <td>...</td>\n",
       "      <td>...</td>\n",
       "      <td>...</td>\n",
       "    </tr>\n",
       "    <tr>\n",
       "      <th>995</th>\n",
       "      <td>1871</td>\n",
       "      <td>White</td>\n",
       "      <td>Nf3</td>\n",
       "      <td>e5</td>\n",
       "      <td>1</td>\n",
       "    </tr>\n",
       "    <tr>\n",
       "      <th>996</th>\n",
       "      <td>1585</td>\n",
       "      <td>Black</td>\n",
       "      <td>e4</td>\n",
       "      <td>e6</td>\n",
       "      <td>1</td>\n",
       "    </tr>\n",
       "    <tr>\n",
       "      <th>997</th>\n",
       "      <td>1894</td>\n",
       "      <td>Black</td>\n",
       "      <td>d4</td>\n",
       "      <td>e5</td>\n",
       "      <td>1</td>\n",
       "    </tr>\n",
       "    <tr>\n",
       "      <th>998</th>\n",
       "      <td>1990</td>\n",
       "      <td>Black</td>\n",
       "      <td>Nf3</td>\n",
       "      <td>Nf6</td>\n",
       "      <td>1</td>\n",
       "    </tr>\n",
       "    <tr>\n",
       "      <th>999</th>\n",
       "      <td>1799</td>\n",
       "      <td>White</td>\n",
       "      <td>Nf3</td>\n",
       "      <td>e5</td>\n",
       "      <td>0</td>\n",
       "    </tr>\n",
       "  </tbody>\n",
       "</table>\n",
       "<p>1000 rows × 5 columns</p>\n",
       "</div>"
      ],
      "text/plain": [
       "     Fake_Opponent_Rating Fake_Colour Fake_First_Move Fake_Second_Move  \\\n",
       "0                    2033       White             Nf3              Nf6   \n",
       "1                    1823       Black             Nf3               c6   \n",
       "2                    1925       White              e4               c6   \n",
       "3                    1888       Black              d4               e5   \n",
       "4                    1922       Black              d4               e5   \n",
       "..                    ...         ...             ...              ...   \n",
       "995                  1871       White             Nf3               e5   \n",
       "996                  1585       Black              e4               e6   \n",
       "997                  1894       Black              d4               e5   \n",
       "998                  1990       Black             Nf3              Nf6   \n",
       "999                  1799       White             Nf3               e5   \n",
       "\n",
       "    Fake_Result  \n",
       "0             0  \n",
       "1             0  \n",
       "2             1  \n",
       "3             0  \n",
       "4             0  \n",
       "..          ...  \n",
       "995           1  \n",
       "996           1  \n",
       "997           1  \n",
       "998           1  \n",
       "999           0  \n",
       "\n",
       "[1000 rows x 5 columns]"
      ]
     },
     "execution_count": 25,
     "metadata": {},
     "output_type": "execute_result"
    }
   ],
   "source": [
    "fake[\"Fake_Result\"]=\"\"\n",
    "fake.head()\n",
    "\n",
    "for i in range(1000):\n",
    "    for j in range(9):\n",
    "        if rating_change['rating_min'][j]<=(1863-fake['Fake_Opponent_Rating'][i])<=rating_change['rating_max'][j]:\n",
    "            weight_dict={\n",
    "                1: rating_change['chance'][j]/100,\n",
    "                0: 100-rating_change['chance'][j]/100,\n",
    "            }\n",
    "            fake.at[i,'Fake_Result']=random.choice(list(weight_dict))\n",
    "    \n",
    "\n",
    "fake"
   ]
  },
  {
   "cell_type": "code",
   "execution_count": 26,
   "metadata": {},
   "outputs": [
    {
     "data": {
      "image/png": "[encoded data removed]",
      "text/plain": [
       "<Figure size 432x288 with 1 Axes>"
      ]
     },
     "metadata": {},
     "output_type": "display_data"
    }
   ],
   "source": [
    "win=fake.loc[(fake['Fake_Result']==1)]\n",
    "loss=fake.loc[fake['Fake_Result']==0]\n",
    "sb.distplot(win[['Fake_Opponent_Rating']], hist=False, label='win')\n",
    "sb.distplot(loss[['Fake_Opponent_Rating']], hist=False, label='loss')\n",
    "\n",
    "plt.show()"
   ]
  },
  {
   "cell_type": "markdown",
   "metadata": {},
   "source": [
    "This graph appears to agree with the real data's assessment that I perform quite similarly against players of any strength (which is probably concerning from a chess point of view), but there is an indication that in my fake dataset (like in the real data set), I do lose (slightly) more games against higher rated players than against lower rated players. (I ignored draws for my fake data set)."
   ]
  },
  {
   "cell_type": "code",
   "execution_count": null,
   "metadata": {
    "collapsed": true
   },
   "outputs": [],
   "source": []
  }
 ],
 "metadata": {
  "kernelspec": {
   "display_name": "Python 3",
   "language": "python",
   "name": "python3"
  },
  "language_info": {
   "codemirror_mode": {
    "name": "ipython",
    "version": 3
   },
   "file_extension": ".py",
   "mimetype": "text/x-python",
   "name": "python",
   "nbconvert_exporter": "python",
   "pygments_lexer": "ipython3",
   "version": "3.6.3"
  }
 },
 "nbformat": 4,
 "nbformat_minor": 2
}
